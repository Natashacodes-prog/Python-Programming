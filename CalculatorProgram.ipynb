{
 "cells": [
  {
   "cell_type": "code",
   "execution_count": null,
   "id": "cb70ba53-b1d1-4619-8a8e-fe4e2e85b3e9",
   "metadata": {},
   "outputs": [
    {
     "name": "stdout",
     "output_type": "stream",
     "text": [
      "Please select the operation\n",
      "a.Add\n",
      "b.Subtract\n",
      "c.Multiply\n",
      "d.Divide\n"
     ]
    }
   ],
   "source": [
    "def add(x,y):\n",
    "# this function adds two numbers, x and y\n",
    " return x + y\n",
    "def subtract(x,y):\n",
    "    return x - y\n",
    "# this function subtracts y from x\n",
    "def multiply(x,y):\n",
    "    return x*y\n",
    "# this function multiplies x and y \n",
    "\n",
    "def divide(x,y):\n",
    "    return x/y\n",
    "# this function divides two numbers that is x divided by yThese will be inputs from the user\n",
    "\n",
    "print (\"Please select the operation\")\n",
    "print(\"a.Add\")\n",
    "print(\"b.Subtract\")\n",
    "print(\"c.Multiply\")\n",
    "print(\"d.Divide\")\n",
    "\n",
    "choice = input(\"Please enter choice a/b/c/d:\")\n",
    "\n",
    "num_1 = int(input(\"Please enter the first number\"))\n",
    "num_2 = int(input(\"Please enter the second number\"))\n",
    "\n",
    "if choice == \"a\": \n",
    "   print(f\"{num_1} + {num_2} = {add(num_1, num_2)}\")\n",
    "elif choice == \"b\":\n",
    "    print(num_1, \" - \", num_2, \" = \", subtract(num_1, num_2))   \n",
    "elif choice == 'c':    \n",
    "   print(num1, \" * \", num2, \" = \", multiply(num1, num2))    \n",
    "elif choice == 'd':    \n",
    "   print(num_1, \" / \", num_2, \" = \", divide(num_1, num_2))    \n",
    "else:    \n",
    "   print(\"Please enter an integer\")    \n",
    "    \n",
    "               "
   ]
  },
  {
   "cell_type": "code",
   "execution_count": null,
   "id": "9616d402-fb5a-4d7b-b125-fa1e4258c10e",
   "metadata": {},
   "outputs": [],
   "source": []
  },
  {
   "cell_type": "code",
   "execution_count": null,
   "id": "5178a24b-2e5f-4307-b223-4a30524f5cf2",
   "metadata": {},
   "outputs": [],
   "source": []
  }
 ],
 "metadata": {
  "kernelspec": {
   "display_name": "Python 3 (ipykernel)",
   "language": "python",
   "name": "python3"
  },
  "language_info": {
   "codemirror_mode": {
    "name": "ipython",
    "version": 3
   },
   "file_extension": ".py",
   "mimetype": "text/x-python",
   "name": "python",
   "nbconvert_exporter": "python",
   "pygments_lexer": "ipython3",
   "version": "3.9.13"
  }
 },
 "nbformat": 4,
 "nbformat_minor": 5
}
