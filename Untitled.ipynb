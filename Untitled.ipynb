{
 "cells": [
  {
   "cell_type": "code",
   "execution_count": 14,
   "id": "14c14ca1-4dfd-4cb1-8b6b-0970e684424f",
   "metadata": {},
   "outputs": [
    {
     "name": "stdout",
     "output_type": "stream",
     "text": [
      "Variable   Type       Data/Info\n",
      "-------------------------------\n",
      "a          float      1.5\n",
      "b          float      0.8\n",
      "c          complex    (1.5+0.8j)\n",
      "c2         complex    (1.5+0.8j)\n",
      "x          int        4\n",
      "y          int        7\n",
      "z          float      4.0\n"
     ]
    }
   ],
   "source": [
    "x = 4\n",
    "y = 7\n",
    "z = 4.0\n",
    "%whos"
   ]
  },
  {
   "cell_type": "code",
   "execution_count": 4,
   "id": "ffe4c720-f462-4f2e-9528-4985c08eca48",
   "metadata": {},
   "outputs": [
    {
     "name": "stdout",
     "output_type": "stream",
     "text": [
      "(1.5+0.8j)\n",
      "(1.5+0.8j)\n",
      "<class 'complex'>\n",
      "<class 'complex'>\n"
     ]
    }
   ],
   "source": [
    "a = 1.5\n",
    "b = 0.8\n",
    "c = a + b*1j\n",
    "print(c)\n",
    "c2 = complex(a,b)\n",
    "print(c2)\n",
    "print(type(c))\n",
    "print(type(c2))"
   ]
  },
  {
   "cell_type": "code",
   "execution_count": 16,
   "id": "e2d3e9fa-b9a5-4b6b-ac4d-964db1f58e46",
   "metadata": {},
   "outputs": [
    {
     "name": "stdout",
     "output_type": "stream",
     "text": [
      "1\n"
     ]
    }
   ],
   "source": [
    "z =4/3\n",
    "print(int(z))"
   ]
  },
  {
   "cell_type": "code",
   "execution_count": 19,
   "id": "5fa5088d-2121-4027-a75a-2be589470be1",
   "metadata": {},
   "outputs": [
    {
     "data": {
      "text/plain": [
       "'iu university'"
      ]
     },
     "execution_count": 19,
     "metadata": {},
     "output_type": "execute_result"
    }
   ],
   "source": [
    "my_university =\"iu university\"\n",
    "my_university"
   ]
  },
  {
   "cell_type": "code",
   "execution_count": 24,
   "id": "173c1518-9909-457a-aa09-48810d9269ed",
   "metadata": {},
   "outputs": [
    {
     "data": {
      "text/plain": [
       "8"
      ]
     },
     "execution_count": 24,
     "metadata": {},
     "output_type": "execute_result"
    }
   ],
   "source": [
    "your_city = \"Johannesburg\"\n",
    "your_city.find('b')"
   ]
  },
  {
   "cell_type": "code",
   "execution_count": 25,
   "id": "3c55ba12-3d1b-49c9-88b5-133886e92168",
   "metadata": {},
   "outputs": [
    {
     "data": {
      "text/plain": [
       "1"
      ]
     },
     "execution_count": 25,
     "metadata": {},
     "output_type": "execute_result"
    }
   ],
   "source": [
    "your_city.count('b')"
   ]
  },
  {
   "cell_type": "code",
   "execution_count": null,
   "id": "786d31b0-1ded-45a4-a072-e977c990e63d",
   "metadata": {},
   "outputs": [],
   "source": []
  }
 ],
 "metadata": {
  "kernelspec": {
   "display_name": "Python 3 (ipykernel)",
   "language": "python",
   "name": "python3"
  },
  "language_info": {
   "codemirror_mode": {
    "name": "ipython",
    "version": 3
   },
   "file_extension": ".py",
   "mimetype": "text/x-python",
   "name": "python",
   "nbconvert_exporter": "python",
   "pygments_lexer": "ipython3",
   "version": "3.9.13"
  }
 },
 "nbformat": 4,
 "nbformat_minor": 5
}
