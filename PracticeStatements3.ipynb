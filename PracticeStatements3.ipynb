{
 "cells": [
  {
   "cell_type": "code",
   "execution_count": 1,
   "id": "67fc58e8-5f3c-4933-a16b-2acc716e3992",
   "metadata": {},
   "outputs": [],
   "source": [
    "a=b=c=10"
   ]
  },
  {
   "cell_type": "code",
   "execution_count": 2,
   "id": "b3b12f42-ce96-4928-a961-670e77c5ccc0",
   "metadata": {},
   "outputs": [
    {
     "name": "stdout",
     "output_type": "stream",
     "text": [
      "10\n"
     ]
    }
   ],
   "source": [
    "print(c)"
   ]
  },
  {
   "cell_type": "code",
   "execution_count": 3,
   "id": "7413a8ee-cb1c-4c82-b083-a979d02afe7c",
   "metadata": {},
   "outputs": [
    {
     "name": "stdout",
     "output_type": "stream",
     "text": [
      "10 10 10\n"
     ]
    }
   ],
   "source": [
    "print(a,b,c)"
   ]
  },
  {
   "cell_type": "code",
   "execution_count": 11,
   "id": "cb54b53c-c5e6-4b2c-8a04-f840c14ae44b",
   "metadata": {},
   "outputs": [],
   "source": [
    "a=b=c=d=10"
   ]
  },
  {
   "cell_type": "code",
   "execution_count": 6,
   "id": "3463eff0-7abd-45c8-88ad-e5d23cfb158f",
   "metadata": {},
   "outputs": [
    {
     "name": "stdout",
     "output_type": "stream",
     "text": [
      "Type a value:\n"
     ]
    }
   ],
   "source": [
    "print(\"Type a value:\")"
   ]
  },
  {
   "cell_type": "code",
   "execution_count": 9,
   "id": "4518db72-bfe6-45f9-ae38-c1adfd9811ae",
   "metadata": {},
   "outputs": [
    {
     "name": "stdin",
     "output_type": "stream",
     "text": [
      " Hello\n"
     ]
    }
   ],
   "source": [
    "my_variable = input()"
   ]
  },
  {
   "cell_type": "code",
   "execution_count": 10,
   "id": "b971c188-0287-4a24-b994-b1c4e5710b80",
   "metadata": {},
   "outputs": [
    {
     "name": "stdout",
     "output_type": "stream",
     "text": [
      "You entered: Hello\n"
     ]
    }
   ],
   "source": [
    "print(\"You entered:\", my_variable)"
   ]
  },
  {
   "cell_type": "code",
   "execution_count": 12,
   "id": "584bfe1a-a31b-4188-9073-86adacd06ee5",
   "metadata": {},
   "outputs": [
    {
     "name": "stdin",
     "output_type": "stream",
     "text": [
      " Python is fun!\n"
     ]
    }
   ],
   "source": [
    "my_string = input()"
   ]
  },
  {
   "cell_type": "code",
   "execution_count": 16,
   "id": "a38836f9-0648-4fb4-b40f-af819aa426d6",
   "metadata": {},
   "outputs": [
    {
     "name": "stdin",
     "output_type": "stream",
     "text": [
      " 50\n",
      " 57.2\n"
     ]
    },
    {
     "data": {
      "text/plain": [
       "str"
      ]
     },
     "execution_count": 16,
     "metadata": {},
     "output_type": "execute_result"
    }
   ],
   "source": [
    "my_int = input()\n",
    "my_float = input()\n",
    "type(my_string)\n",
    "type(my_int)\n",
    "type(my_float)\n"
   ]
  },
  {
   "cell_type": "code",
   "execution_count": 18,
   "id": "ee7ef483-adbd-4e77-8296-db80da673e25",
   "metadata": {},
   "outputs": [
    {
     "data": {
      "text/plain": [
       "str"
      ]
     },
     "execution_count": 18,
     "metadata": {},
     "output_type": "execute_result"
    }
   ],
   "source": [
    "type(my_int)"
   ]
  },
  {
   "cell_type": "code",
   "execution_count": 17,
   "id": "e93b838f-8c6c-42d3-ac9b-47e83c6261ad",
   "metadata": {},
   "outputs": [
    {
     "data": {
      "text/plain": [
       "str"
      ]
     },
     "execution_count": 17,
     "metadata": {},
     "output_type": "execute_result"
    }
   ],
   "source": [
    "type(my_float)\n"
   ]
  },
  {
   "cell_type": "code",
   "execution_count": null,
   "id": "c9f15b2f-a105-4c01-bbd8-0c7196c58b1b",
   "metadata": {},
   "outputs": [],
   "source": []
  }
 ],
 "metadata": {
  "kernelspec": {
   "display_name": "Python 3 (ipykernel)",
   "language": "python",
   "name": "python3"
  },
  "language_info": {
   "codemirror_mode": {
    "name": "ipython",
    "version": 3
   },
   "file_extension": ".py",
   "mimetype": "text/x-python",
   "name": "python",
   "nbconvert_exporter": "python",
   "pygments_lexer": "ipython3",
   "version": "3.9.13"
  }
 },
 "nbformat": 4,
 "nbformat_minor": 5
}
