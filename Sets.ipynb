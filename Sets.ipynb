{
 "cells": [
  {
   "cell_type": "code",
   "execution_count": 1,
   "id": "95e2a0b3-eca3-4438-ae59-816bfd5b9695",
   "metadata": {},
   "outputs": [
    {
     "ename": "NameError",
     "evalue": "name 'code' is not defined",
     "output_type": "error",
     "traceback": [
      "\u001b[1;31m---------------------------------------------------------------------------\u001b[0m",
      "\u001b[1;31mNameError\u001b[0m                                 Traceback (most recent call last)",
      "\u001b[1;32m~\\AppData\\Local\\Temp\\ipykernel_11080\\2319254076.py\u001b[0m in \u001b[0;36m<module>\u001b[1;34m\u001b[0m\n\u001b[1;32m----> 1\u001b[1;33m \u001b[0mto_do\u001b[0m\u001b[1;33m=\u001b[0m\u001b[1;33m{\u001b[0m\u001b[0mcode\u001b[0m\u001b[1;33m,\u001b[0m\u001b[0mwork\u001b[0m\u001b[1;33m,\u001b[0m\u001b[0mexercise\u001b[0m\u001b[1;33m}\u001b[0m\u001b[1;33m\u001b[0m\u001b[1;33m\u001b[0m\u001b[0m\n\u001b[0m",
      "\u001b[1;31mNameError\u001b[0m: name 'code' is not defined"
     ]
    }
   ],
   "source": [
    "to_do={code,work,exercise}"
   ]
  },
  {
   "cell_type": "code",
   "execution_count": 2,
   "id": "42e27ed7-682f-4076-986f-5537f5ad4e5b",
   "metadata": {},
   "outputs": [],
   "source": [
    "to_do={\"code\",\"work\",\"exercise\"}"
   ]
  },
  {
   "cell_type": "code",
   "execution_count": 3,
   "id": "ce019d17-1dbd-43a8-a250-5babacbb40b6",
   "metadata": {},
   "outputs": [
    {
     "name": "stdout",
     "output_type": "stream",
     "text": [
      "{'exercise', 'work', 'code'}\n"
     ]
    }
   ],
   "source": [
    "print(to_do)"
   ]
  },
  {
   "cell_type": "code",
   "execution_count": 4,
   "id": "4a2cd699-264d-458c-bd9d-76a8679d1c04",
   "metadata": {},
   "outputs": [],
   "source": [
    "to_do.add(\"breakfast\")"
   ]
  },
  {
   "cell_type": "code",
   "execution_count": 5,
   "id": "d2494e88-b803-4442-a912-1ea3926796ff",
   "metadata": {},
   "outputs": [
    {
     "name": "stdout",
     "output_type": "stream",
     "text": [
      "{'exercise', 'work', 'code', 'breakfast'}\n"
     ]
    }
   ],
   "source": [
    "print(to_do)"
   ]
  },
  {
   "cell_type": "code",
   "execution_count": 6,
   "id": "c26df928-0be3-4353-8001-4b000dfd941f",
   "metadata": {},
   "outputs": [],
   "source": [
    "to_do.clear()"
   ]
  },
  {
   "cell_type": "code",
   "execution_count": 7,
   "id": "91f55dab-a037-468a-b753-762f33db0b4a",
   "metadata": {},
   "outputs": [
    {
     "name": "stdout",
     "output_type": "stream",
     "text": [
      "set()\n"
     ]
    }
   ],
   "source": [
    "print(to_do)"
   ]
  },
  {
   "cell_type": "code",
   "execution_count": 8,
   "id": "7158e1fc-11f6-42b0-b445-f3cbc55f04cc",
   "metadata": {},
   "outputs": [],
   "source": [
    "to_do={\"exercise\", \"code\", \"work\"}"
   ]
  },
  {
   "cell_type": "code",
   "execution_count": 9,
   "id": "03993f1d-b7fb-44ce-895d-6527ac14182e",
   "metadata": {},
   "outputs": [
    {
     "name": "stdout",
     "output_type": "stream",
     "text": [
      "{'exercise', 'work', 'code'}\n"
     ]
    }
   ],
   "source": [
    "print(to_do)"
   ]
  },
  {
   "cell_type": "code",
   "execution_count": 10,
   "id": "930c7be2-4211-4975-ac39-e3120c1ff9b3",
   "metadata": {},
   "outputs": [],
   "source": [
    "to_do.add(\"code\")"
   ]
  },
  {
   "cell_type": "code",
   "execution_count": 11,
   "id": "fd8f5883-647e-452a-82d6-e5375111be2f",
   "metadata": {},
   "outputs": [
    {
     "name": "stdout",
     "output_type": "stream",
     "text": [
      "{'exercise', 'work', 'code'}\n"
     ]
    }
   ],
   "source": [
    "print(to_do)"
   ]
  },
  {
   "cell_type": "code",
   "execution_count": null,
   "id": "3da11c90-6073-413d-8713-ba2ca3cd2179",
   "metadata": {},
   "outputs": [],
   "source": []
  }
 ],
 "metadata": {
  "kernelspec": {
   "display_name": "Python 3 (ipykernel)",
   "language": "python",
   "name": "python3"
  },
  "language_info": {
   "codemirror_mode": {
    "name": "ipython",
    "version": 3
   },
   "file_extension": ".py",
   "mimetype": "text/x-python",
   "name": "python",
   "nbconvert_exporter": "python",
   "pygments_lexer": "ipython3",
   "version": "3.9.13"
  }
 },
 "nbformat": 4,
 "nbformat_minor": 5
}
