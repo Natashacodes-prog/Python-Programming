{
 "cells": [
  {
   "cell_type": "code",
   "execution_count": 1,
   "id": "90c976a0-dd4e-4867-8bef-f2c6d4e6c373",
   "metadata": {},
   "outputs": [],
   "source": [
    "text_string = \"Nontobeko\""
   ]
  },
  {
   "cell_type": "code",
   "execution_count": 2,
   "id": "782d1e4b-d663-4d3e-9902-9ff6a29bc308",
   "metadata": {},
   "outputs": [
    {
     "name": "stdout",
     "output_type": "stream",
     "text": [
      "Nontobeko\n"
     ]
    }
   ],
   "source": [
    "print(text_string)"
   ]
  },
  {
   "cell_type": "code",
   "execution_count": 3,
   "id": "2361b3bc-96b5-4a3e-81f5-36bec854e869",
   "metadata": {},
   "outputs": [],
   "source": [
    "text_string= \"Natasha\""
   ]
  },
  {
   "cell_type": "code",
   "execution_count": 4,
   "id": "e16d2f4b-9e73-4742-8981-73ed82ca7106",
   "metadata": {},
   "outputs": [
    {
     "name": "stdout",
     "output_type": "stream",
     "text": [
      "Natasha\n"
     ]
    }
   ],
   "source": [
    "print(text_string)"
   ]
  },
  {
   "cell_type": "code",
   "execution_count": 5,
   "id": "ca74710a-7956-4726-bbf4-08e216c13d02",
   "metadata": {},
   "outputs": [
    {
     "name": "stdout",
     "output_type": "stream",
     "text": [
      "A string\n"
     ]
    }
   ],
   "source": [
    "print('A string')"
   ]
  },
  {
   "cell_type": "code",
   "execution_count": 6,
   "id": "a61aeec7-efcb-4d35-ba9d-6f9a8099be19",
   "metadata": {},
   "outputs": [
    {
     "ename": "SyntaxError",
     "evalue": "EOL while scanning string literal (249043652.py, line 1)",
     "output_type": "error",
     "traceback": [
      "\u001b[1;36m  File \u001b[1;32m\"C:\\Users\\Nonto\\AppData\\Local\\Temp\\ipykernel_31868\\249043652.py\"\u001b[1;36m, line \u001b[1;32m1\u001b[0m\n\u001b[1;33m    print(\"A string')\u001b[0m\n\u001b[1;37m                     ^\u001b[0m\n\u001b[1;31mSyntaxError\u001b[0m\u001b[1;31m:\u001b[0m EOL while scanning string literal\n"
     ]
    }
   ],
   "source": [
    "print(\"A string')"
   ]
  },
  {
   "cell_type": "code",
   "execution_count": 7,
   "id": "7b99a4c2-6601-43df-a54a-c13c2278e4d9",
   "metadata": {},
   "outputs": [
    {
     "name": "stdout",
     "output_type": "stream",
     "text": [
      "The rare double quote in captivity: \".\n"
     ]
    }
   ],
   "source": [
    "print('The rare double quote in captivity: \".')"
   ]
  },
  {
   "cell_type": "code",
   "execution_count": 1,
   "id": "6df2a9cd-26c3-4734-967f-f81b054a0b12",
   "metadata": {},
   "outputs": [],
   "source": [
    "my_string= \"Natasha\""
   ]
  },
  {
   "cell_type": "code",
   "execution_count": 2,
   "id": "904a61b6-51a1-4611-8d53-2046e42998c8",
   "metadata": {},
   "outputs": [
    {
     "data": {
      "text/plain": [
       "3"
      ]
     },
     "execution_count": 2,
     "metadata": {},
     "output_type": "execute_result"
    }
   ],
   "source": [
    "my_string.count(\"a\")"
   ]
  },
  {
   "cell_type": "code",
   "execution_count": 3,
   "id": "95b90f52-12f7-4b8a-8bdc-01d1205f8a59",
   "metadata": {},
   "outputs": [
    {
     "ename": "NameError",
     "evalue": "name 'a' is not defined",
     "output_type": "error",
     "traceback": [
      "\u001b[1;31m---------------------------------------------------------------------------\u001b[0m",
      "\u001b[1;31mNameError\u001b[0m                                 Traceback (most recent call last)",
      "\u001b[1;32m~\\AppData\\Local\\Temp\\ipykernel_7136\\1736176023.py\u001b[0m in \u001b[0;36m<module>\u001b[1;34m\u001b[0m\n\u001b[1;32m----> 1\u001b[1;33m \u001b[0mmy_string\u001b[0m\u001b[1;33m.\u001b[0m\u001b[0mindex\u001b[0m\u001b[1;33m(\u001b[0m\u001b[0ma\u001b[0m\u001b[1;33m)\u001b[0m\u001b[1;33m\u001b[0m\u001b[1;33m\u001b[0m\u001b[0m\n\u001b[0m",
      "\u001b[1;31mNameError\u001b[0m: name 'a' is not defined"
     ]
    }
   ],
   "source": [
    "my_string.index(a)"
   ]
  },
  {
   "cell_type": "code",
   "execution_count": 4,
   "id": "f3553a4c-a9b1-431f-87b6-70ed43b096ae",
   "metadata": {},
   "outputs": [
    {
     "data": {
      "text/plain": [
       "1"
      ]
     },
     "execution_count": 4,
     "metadata": {},
     "output_type": "execute_result"
    }
   ],
   "source": [
    "my_string.index(\"a\")"
   ]
  },
  {
   "cell_type": "code",
   "execution_count": 5,
   "id": "54433300-dabe-45bf-bfd7-34ad1140733d",
   "metadata": {},
   "outputs": [
    {
     "data": {
      "text/plain": [
       "7"
      ]
     },
     "execution_count": 5,
     "metadata": {},
     "output_type": "execute_result"
    }
   ],
   "source": [
    "len(my_string)"
   ]
  },
  {
   "cell_type": "code",
   "execution_count": 6,
   "id": "8ef53277-7190-4b3f-9b02-f4848453f158",
   "metadata": {},
   "outputs": [
    {
     "data": {
      "text/plain": [
       "3"
      ]
     },
     "execution_count": 6,
     "metadata": {},
     "output_type": "execute_result"
    }
   ],
   "source": [
    "my_string.count(\"a\")"
   ]
  },
  {
   "cell_type": "code",
   "execution_count": 7,
   "id": "5a7dd6cc-7298-46f2-8cc1-713429937112",
   "metadata": {},
   "outputs": [
    {
     "data": {
      "text/plain": [
       "'natasha'"
      ]
     },
     "execution_count": 7,
     "metadata": {},
     "output_type": "execute_result"
    }
   ],
   "source": [
    "my_string.lower()"
   ]
  },
  {
   "cell_type": "code",
   "execution_count": 8,
   "id": "e21fa3cc-982f-42ae-8857-4a4428bab30e",
   "metadata": {},
   "outputs": [
    {
     "data": {
      "text/plain": [
       "0"
      ]
     },
     "execution_count": 8,
     "metadata": {},
     "output_type": "execute_result"
    }
   ],
   "source": [
    "my_string.index(\"N\")"
   ]
  },
  {
   "cell_type": "code",
   "execution_count": 9,
   "id": "1d7b3f2f-6241-409a-93cd-99065ab6c4cd",
   "metadata": {},
   "outputs": [
    {
     "ename": "ValueError",
     "evalue": "substring not found",
     "output_type": "error",
     "traceback": [
      "\u001b[1;31m---------------------------------------------------------------------------\u001b[0m",
      "\u001b[1;31mValueError\u001b[0m                                Traceback (most recent call last)",
      "\u001b[1;32m~\\AppData\\Local\\Temp\\ipykernel_7136\\3537948180.py\u001b[0m in \u001b[0;36m<module>\u001b[1;34m\u001b[0m\n\u001b[1;32m----> 1\u001b[1;33m \u001b[0mmy_string\u001b[0m\u001b[1;33m.\u001b[0m\u001b[0mindex\u001b[0m\u001b[1;33m(\u001b[0m\u001b[1;34m\"n\"\u001b[0m\u001b[1;33m)\u001b[0m\u001b[1;33m\u001b[0m\u001b[1;33m\u001b[0m\u001b[0m\n\u001b[0m",
      "\u001b[1;31mValueError\u001b[0m: substring not found"
     ]
    }
   ],
   "source": [
    "my_string.index(\"n\")"
   ]
  },
  {
   "cell_type": "code",
   "execution_count": 10,
   "id": "0fea2036-6eaf-4db1-af44-86c10b3682c9",
   "metadata": {},
   "outputs": [],
   "source": [
    "my_string=\"My name is {name} and I am {age} years old.\".frmat(name=\"Nonto\", age=\"24\")"
   ]
  },
  {
   "cell_type": "code",
   "execution_count": 11,
   "id": "68727b0d-11c6-43d3-8281-2859c733d226",
   "metadata": {},
   "outputs": [
    {
     "name": "stdout",
     "output_type": "stream",
     "text": [
      "My name is Nonto and I am 24 years old.\n"
     ]
    }
   ],
   "source": [
    "print(my_string)"
   ]
  },
  {
   "cell_type": "code",
   "execution_count": null,
   "id": "f91d8aaa-b6eb-422f-9ec4-322109c23dbe",
   "metadata": {},
   "outputs": [],
   "source": []
  },
  {
   "cell_type": "code",
   "execution_count": 12,
   "id": "e6e9f670-84fc-421f-b9a6-29dec971d7ad",
   "metadata": {},
   "outputs": [
    {
     "ename": "SyntaxError",
     "evalue": "invalid syntax (3612449852.py, line 2)",
     "output_type": "error",
     "traceback": [
      "\u001b[1;36m  File \u001b[1;32m\"C:\\Users\\Nonto\\AppData\\Local\\Temp\\ipykernel_7136\\3612449852.py\"\u001b[1;36m, line \u001b[1;32m2\u001b[0m\n\u001b[1;33m    .format(name=\"Nonto\", age=\"24\")\u001b[0m\n\u001b[1;37m    ^\u001b[0m\n\u001b[1;31mSyntaxError\u001b[0m\u001b[1;31m:\u001b[0m invalid syntax\n"
     ]
    }
   ],
   "source": [
    "my_string=\"My name is {name} and I am {age} years old.\"\n",
    ".format(name=\"Nonto\", age=\"24\")"
   ]
  },
  {
   "cell_type": "code",
   "execution_count": null,
   "id": "168ac0b9-a93b-4fcb-a89a-341c04b343b6",
   "metadata": {},
   "outputs": [],
   "source": []
  },
  {
   "cell_type": "code",
   "execution_count": 13,
   "id": "47ab601d-e503-47e9-a6dc-724ae4d40984",
   "metadata": {},
   "outputs": [],
   "source": [
    "my_string=\"My name is {name} and I am {age} years old.\".format(name=\"Nonto\", age=\"24\")"
   ]
  },
  {
   "cell_type": "code",
   "execution_count": 14,
   "id": "2f2e1642-9d1a-4ba8-8bc3-ee011c965b63",
   "metadata": {},
   "outputs": [
    {
     "name": "stdout",
     "output_type": "stream",
     "text": [
      "My name is Nonto and I am 24 years old.\n"
     ]
    }
   ],
   "source": [
    "print(my_string)"
   ]
  },
  {
   "cell_type": "code",
   "execution_count": 15,
   "id": "1a1c3690-fbe4-4ffc-b8a2-4d62231dab24",
   "metadata": {},
   "outputs": [
    {
     "name": "stdout",
     "output_type": "stream",
     "text": [
      "My name is Nonto and I am 24 years old.My name is Nonto and I am 24 years old.My name is Nonto and I am 24 years old.\n"
     ]
    }
   ],
   "source": [
    "print(my_string*3)"
   ]
  },
  {
   "cell_type": "code",
   "execution_count": 16,
   "id": "f593c3c2-7b23-4ba1-97dd-231f97c270ef",
   "metadata": {},
   "outputs": [],
   "source": [
    "my_string= \"Nontobeko\""
   ]
  },
  {
   "cell_type": "code",
   "execution_count": 17,
   "id": "a4f10902-ef5d-4959-81ba-55dda1e7df28",
   "metadata": {},
   "outputs": [
    {
     "ename": "SyntaxError",
     "evalue": "unexpected EOF while parsing (140469757.py, line 1)",
     "output_type": "error",
     "traceback": [
      "\u001b[1;36m  File \u001b[1;32m\"C:\\Users\\Nonto\\AppData\\Local\\Temp\\ipykernel_7136\\140469757.py\"\u001b[1;36m, line \u001b[1;32m1\u001b[0m\n\u001b[1;33m    print(my_string[0:1]\u001b[0m\n\u001b[1;37m                        ^\u001b[0m\n\u001b[1;31mSyntaxError\u001b[0m\u001b[1;31m:\u001b[0m unexpected EOF while parsing\n"
     ]
    }
   ],
   "source": [
    "print(my_string[0:1]"
   ]
  },
  {
   "cell_type": "code",
   "execution_count": null,
   "id": "1e8a7af3-931d-44b4-ad6c-23aa4441bbee",
   "metadata": {},
   "outputs": [],
   "source": []
  },
  {
   "cell_type": "code",
   "execution_count": 18,
   "id": "7a3a9862-cef1-4abf-af99-83e182f48233",
   "metadata": {},
   "outputs": [
    {
     "name": "stdout",
     "output_type": "stream",
     "text": [
      "N\n"
     ]
    }
   ],
   "source": [
    "print(my_string[0:1])"
   ]
  },
  {
   "cell_type": "code",
   "execution_count": 19,
   "id": "2b44e4bd-384c-486c-9405-9cbb1cdd59b6",
   "metadata": {},
   "outputs": [
    {
     "name": "stdout",
     "output_type": "stream",
     "text": [
      "nt\n"
     ]
    }
   ],
   "source": [
    "print(my_string[2:4])"
   ]
  },
  {
   "cell_type": "code",
   "execution_count": 21,
   "id": "81db7809-ae34-4a24-b189-2bc602b13711",
   "metadata": {},
   "outputs": [
    {
     "name": "stdout",
     "output_type": "stream",
     "text": [
      "N\n"
     ]
    }
   ],
   "source": [
    "print(my_string[0])"
   ]
  },
  {
   "cell_type": "code",
   "execution_count": null,
   "id": "1ca4aaa7-6878-4f32-ae62-cef1f4b7270f",
   "metadata": {},
   "outputs": [],
   "source": []
  },
  {
   "cell_type": "code",
   "execution_count": 22,
   "id": "c954f60b-5d9c-4c69-a985-036cd2e52e5c",
   "metadata": {},
   "outputs": [
    {
     "name": "stdout",
     "output_type": "stream",
     "text": [
      "o\n"
     ]
    }
   ],
   "source": [
    "print(my_string[1])"
   ]
  },
  {
   "cell_type": "code",
   "execution_count": 23,
   "id": "6bbf131b-c3ec-4e42-9e94-70a11645ab3c",
   "metadata": {},
   "outputs": [],
   "source": [
    "my_string=\"Hello, World!\""
   ]
  },
  {
   "cell_type": "code",
   "execution_count": 24,
   "id": "7e04c111-51c4-4073-b1e7-034bfe118a4e",
   "metadata": {},
   "outputs": [
    {
     "name": "stdout",
     "output_type": "stream",
     "text": [
      "Hello\n"
     ]
    }
   ],
   "source": [
    "print(my_string[0:5])"
   ]
  },
  {
   "cell_type": "code",
   "execution_count": 25,
   "id": "e0b48b5d-4dc5-4ec9-854a-b206cdec7973",
   "metadata": {},
   "outputs": [
    {
     "ename": "TypeError",
     "evalue": "must be str, not int",
     "output_type": "error",
     "traceback": [
      "\u001b[1;31m---------------------------------------------------------------------------\u001b[0m",
      "\u001b[1;31mTypeError\u001b[0m                                 Traceback (most recent call last)",
      "\u001b[1;32m~\\AppData\\Local\\Temp\\ipykernel_7136\\3404989432.py\u001b[0m in \u001b[0;36m<module>\u001b[1;34m\u001b[0m\n\u001b[1;32m----> 1\u001b[1;33m \u001b[0mprint\u001b[0m\u001b[1;33m(\u001b[0m\u001b[0mmy_string\u001b[0m\u001b[1;33m.\u001b[0m\u001b[0mindex\u001b[0m\u001b[1;33m(\u001b[0m\u001b[1;36m5\u001b[0m\u001b[1;33m)\u001b[0m\u001b[1;33m)\u001b[0m\u001b[1;33m\u001b[0m\u001b[1;33m\u001b[0m\u001b[0m\n\u001b[0m",
      "\u001b[1;31mTypeError\u001b[0m: must be str, not int"
     ]
    }
   ],
   "source": [
    "print(my_string.index(5))"
   ]
  },
  {
   "cell_type": "code",
   "execution_count": 27,
   "id": "0cc232e2-2d32-49a9-9422-1e8ef9a64e62",
   "metadata": {},
   "outputs": [
    {
     "name": "stdout",
     "output_type": "stream",
     "text": [
      "4\n"
     ]
    }
   ],
   "source": [
    "print(my_string.index(\"o\"))"
   ]
  },
  {
   "cell_type": "code",
   "execution_count": 27,
   "id": "f72af51d-de76-4f82-bb50-23d0395332ec",
   "metadata": {},
   "outputs": [
    {
     "name": "stdout",
     "output_type": "stream",
     "text": [
      "4\n"
     ]
    }
   ],
   "source": [
    "print(my_string.index(\"o\"))"
   ]
  },
  {
   "cell_type": "code",
   "execution_count": 28,
   "id": "c28bc12d-24f4-488d-88c9-305cdcec027b",
   "metadata": {},
   "outputs": [
    {
     "name": "stdout",
     "output_type": "stream",
     "text": [
      "7\n"
     ]
    }
   ],
   "source": [
    "print(my_string.index(\"W\"))"
   ]
  },
  {
   "cell_type": "code",
   "execution_count": 29,
   "id": "c00795b1-f6e7-49de-aefb-06405dd69b13",
   "metadata": {},
   "outputs": [],
   "source": [
    "my_string=\"Hello, World!\""
   ]
  },
  {
   "cell_type": "code",
   "execution_count": 30,
   "id": "0cd1ca5e-19fb-423a-a8da-6df4e677999a",
   "metadata": {},
   "outputs": [
    {
     "name": "stdout",
     "output_type": "stream",
     "text": [
      "Hoo!\n"
     ]
    }
   ],
   "source": [
    "print(my_string[0::4])"
   ]
  },
  {
   "cell_type": "code",
   "execution_count": 31,
   "id": "39212391-f053-444d-976a-ab70ee343624",
   "metadata": {},
   "outputs": [],
   "source": [
    "my_string=\"Hello World!\""
   ]
  },
  {
   "cell_type": "code",
   "execution_count": 32,
   "id": "8476ef0b-8b0f-42a7-8bdd-2c741db5b87b",
   "metadata": {},
   "outputs": [
    {
     "name": "stdout",
     "output_type": "stream",
     "text": [
      "Hor\n"
     ]
    }
   ],
   "source": [
    "print(my_string[0::4])"
   ]
  },
  {
   "cell_type": "code",
   "execution_count": 1,
   "id": "6b9f65af-4092-4c03-92fc-145b7549a67d",
   "metadata": {},
   "outputs": [],
   "source": [
    "string='''three quotes;two quotes;one quote'''"
   ]
  },
  {
   "cell_type": "code",
   "execution_count": 2,
   "id": "f60ff331-c03e-4336-acc4-f7f5b53b939a",
   "metadata": {},
   "outputs": [
    {
     "name": "stdout",
     "output_type": "stream",
     "text": [
      "three quotes;two quotes;one quote\n"
     ]
    }
   ],
   "source": [
    "print(string)"
   ]
  },
  {
   "cell_type": "code",
   "execution_count": 3,
   "id": "87e6f9c0-701b-46a0-b372-cacf714303cf",
   "metadata": {},
   "outputs": [],
   "source": [
    "string='''One\n",
    "two\n",
    "three'''"
   ]
  },
  {
   "cell_type": "code",
   "execution_count": 4,
   "id": "723e51df-7314-453a-905a-d1266f12b219",
   "metadata": {},
   "outputs": [
    {
     "name": "stdout",
     "output_type": "stream",
     "text": [
      "One\n",
      "two\n",
      "three\n"
     ]
    }
   ],
   "source": [
    "print(string)"
   ]
  },
  {
   "cell_type": "code",
   "execution_count": 1,
   "id": "2b047423-0d04-4c33-b271-966f43c786a8",
   "metadata": {},
   "outputs": [],
   "source": [
    "escape_seqence= 'One, two \\\\\"One\"'"
   ]
  },
  {
   "cell_type": "code",
   "execution_count": 2,
   "id": "d1880e37-93e6-4e4c-800b-3475f560ef96",
   "metadata": {},
   "outputs": [
    {
     "name": "stdout",
     "output_type": "stream",
     "text": [
      "One, two \\\"One\"\n"
     ]
    }
   ],
   "source": [
    "print(escape_seqence)"
   ]
  },
  {
   "cell_type": "code",
   "execution_count": 3,
   "id": "ebefd6cf-3158-4722-8dea-8ae69f124a7f",
   "metadata": {},
   "outputs": [
    {
     "ename": "NameError",
     "evalue": "name 'frozentset' is not defined",
     "output_type": "error",
     "traceback": [
      "\u001b[1;31m---------------------------------------------------------------------------\u001b[0m",
      "\u001b[1;31mNameError\u001b[0m                                 Traceback (most recent call last)",
      "\u001b[1;32m~\\AppData\\Local\\Temp\\ipykernel_15412\\3597296054.py\u001b[0m in \u001b[0;36m<module>\u001b[1;34m\u001b[0m\n\u001b[1;32m----> 1\u001b[1;33m \u001b[0mfrozen_set\u001b[0m\u001b[1;33m=\u001b[0m\u001b[0mfrozentset\u001b[0m\u001b[1;33m(\u001b[0m\u001b[1;33m{\u001b[0m\u001b[1;36m1\u001b[0m\u001b[1;33m,\u001b[0m\u001b[1;36m2\u001b[0m\u001b[1;33m,\u001b[0m \u001b[0mme\u001b[0m\u001b[1;33m}\u001b[0m\u001b[1;33m)\u001b[0m\u001b[1;33m\u001b[0m\u001b[1;33m\u001b[0m\u001b[0m\n\u001b[0m",
      "\u001b[1;31mNameError\u001b[0m: name 'frozentset' is not defined"
     ]
    }
   ],
   "source": [
    "frozen_set=frozentset({1,2, me})"
   ]
  },
  {
   "cell_type": "code",
   "execution_count": null,
   "id": "33d95dae-4ac0-4dd8-8fab-c320eace13e9",
   "metadata": {},
   "outputs": [],
   "source": []
  },
  {
   "cell_type": "code",
   "execution_count": 6,
   "id": "89320938-0054-4bc0-9747-1c9c43bd7037",
   "metadata": {},
   "outputs": [
    {
     "ename": "NameError",
     "evalue": "name 'frozentset' is not defined",
     "output_type": "error",
     "traceback": [
      "\u001b[1;31m---------------------------------------------------------------------------\u001b[0m",
      "\u001b[1;31mNameError\u001b[0m                                 Traceback (most recent call last)",
      "\u001b[1;32m~\\AppData\\Local\\Temp\\ipykernel_15412\\45656746.py\u001b[0m in \u001b[0;36m<module>\u001b[1;34m\u001b[0m\n\u001b[1;32m----> 1\u001b[1;33m \u001b[0mmy_frozen_set\u001b[0m\u001b[1;33m=\u001b[0m \u001b[0mfrozentset\u001b[0m\u001b[1;33m(\u001b[0m\u001b[1;33m{\u001b[0m\u001b[1;36m1\u001b[0m\u001b[1;33m,\u001b[0m\u001b[1;36m2\u001b[0m\u001b[1;33m,\u001b[0m \u001b[1;34m\"me\"\u001b[0m\u001b[1;33m}\u001b[0m\u001b[1;33m)\u001b[0m\u001b[1;33m\u001b[0m\u001b[1;33m\u001b[0m\u001b[0m\n\u001b[0m",
      "\u001b[1;31mNameError\u001b[0m: name 'frozentset' is not defined"
     ]
    }
   ],
   "source": [
    "my_frozen_set= frozentset({1,2, \"me\"})"
   ]
  },
  {
   "cell_type": "code",
   "execution_count": 7,
   "id": "9cfd4500-99e1-4b91-bd42-bc2ee5b0234a",
   "metadata": {},
   "outputs": [],
   "source": [
    "frozen_set = frozenset({1,2, \"me\"})"
   ]
  },
  {
   "cell_type": "code",
   "execution_count": 8,
   "id": "8f544d8d-467c-45ef-a171-9f8f4338ebd4",
   "metadata": {},
   "outputs": [],
   "source": [
    "my_frozen_set= ({1,3, \"me\"})"
   ]
  },
  {
   "cell_type": "code",
   "execution_count": 9,
   "id": "333fcf65-324e-4b13-abf3-54c8a966ebc6",
   "metadata": {},
   "outputs": [
    {
     "ename": "AttributeError",
     "evalue": "'frozenset' object has no attribute 'add'",
     "output_type": "error",
     "traceback": [
      "\u001b[1;31m---------------------------------------------------------------------------\u001b[0m",
      "\u001b[1;31mAttributeError\u001b[0m                            Traceback (most recent call last)",
      "\u001b[1;32m~\\AppData\\Local\\Temp\\ipykernel_15412\\3899915800.py\u001b[0m in \u001b[0;36m<module>\u001b[1;34m\u001b[0m\n\u001b[1;32m----> 1\u001b[1;33m \u001b[0mfrozen_set\u001b[0m\u001b[1;33m.\u001b[0m\u001b[0madd\u001b[0m\u001b[1;33m(\u001b[0m\u001b[1;34m\"you\"\u001b[0m\u001b[1;33m)\u001b[0m\u001b[1;33m\u001b[0m\u001b[1;33m\u001b[0m\u001b[0m\n\u001b[0m",
      "\u001b[1;31mAttributeError\u001b[0m: 'frozenset' object has no attribute 'add'"
     ]
    }
   ],
   "source": [
    "frozen_set.add(\"you\")"
   ]
  },
  {
   "cell_type": "code",
   "execution_count": null,
   "id": "82223321-892f-426e-8039-a3d5aa8b78aa",
   "metadata": {},
   "outputs": [],
   "source": []
  }
 ],
 "metadata": {
  "kernelspec": {
   "display_name": "Python 3 (ipykernel)",
   "language": "python",
   "name": "python3"
  },
  "language_info": {
   "codemirror_mode": {
    "name": "ipython",
    "version": 3
   },
   "file_extension": ".py",
   "mimetype": "text/x-python",
   "name": "python",
   "nbconvert_exporter": "python",
   "pygments_lexer": "ipython3",
   "version": "3.9.13"
  }
 },
 "nbformat": 4,
 "nbformat_minor": 5
}
